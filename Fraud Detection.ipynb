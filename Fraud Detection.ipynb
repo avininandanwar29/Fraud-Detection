{
 "cells": [
  {
   "cell_type": "code",
   "execution_count": 5,
   "id": "a00db376",
   "metadata": {},
   "outputs": [],
   "source": [
    "### Importing Dataset\n",
    "import numpy as np\n",
    "import pandas as pd\n",
    "import matplotlib.pyplot as plt\n",
    "import seaborn as sns"
   ]
  },
  {
   "cell_type": "code",
   "execution_count": 6,
   "id": "ff8a32f8",
   "metadata": {},
   "outputs": [],
   "source": [
    "data = pd.read_csv('Fraud.csv')"
   ]
  },
  {
   "cell_type": "code",
   "execution_count": 7,
   "id": "e17321b5",
   "metadata": {},
   "outputs": [
    {
     "data": {
      "text/html": [
       "<div>\n",
       "<style scoped>\n",
       "    .dataframe tbody tr th:only-of-type {\n",
       "        vertical-align: middle;\n",
       "    }\n",
       "\n",
       "    .dataframe tbody tr th {\n",
       "        vertical-align: top;\n",
       "    }\n",
       "\n",
       "    .dataframe thead th {\n",
       "        text-align: right;\n",
       "    }\n",
       "</style>\n",
       "<table border=\"1\" class=\"dataframe\">\n",
       "  <thead>\n",
       "    <tr style=\"text-align: right;\">\n",
       "      <th></th>\n",
       "      <th>step</th>\n",
       "      <th>type</th>\n",
       "      <th>amount</th>\n",
       "      <th>nameOrig</th>\n",
       "      <th>oldbalanceOrg</th>\n",
       "      <th>newbalanceOrig</th>\n",
       "      <th>nameDest</th>\n",
       "      <th>oldbalanceDest</th>\n",
       "      <th>newbalanceDest</th>\n",
       "      <th>isFraud</th>\n",
       "      <th>isFlaggedFraud</th>\n",
       "    </tr>\n",
       "  </thead>\n",
       "  <tbody>\n",
       "    <tr>\n",
       "      <th>0</th>\n",
       "      <td>1</td>\n",
       "      <td>PAYMENT</td>\n",
       "      <td>9839.64</td>\n",
       "      <td>C1231006815</td>\n",
       "      <td>170136.0</td>\n",
       "      <td>160296.36</td>\n",
       "      <td>M1979787155</td>\n",
       "      <td>0.0</td>\n",
       "      <td>0.0</td>\n",
       "      <td>0</td>\n",
       "      <td>0</td>\n",
       "    </tr>\n",
       "    <tr>\n",
       "      <th>1</th>\n",
       "      <td>1</td>\n",
       "      <td>PAYMENT</td>\n",
       "      <td>1864.28</td>\n",
       "      <td>C1666544295</td>\n",
       "      <td>21249.0</td>\n",
       "      <td>19384.72</td>\n",
       "      <td>M2044282225</td>\n",
       "      <td>0.0</td>\n",
       "      <td>0.0</td>\n",
       "      <td>0</td>\n",
       "      <td>0</td>\n",
       "    </tr>\n",
       "    <tr>\n",
       "      <th>2</th>\n",
       "      <td>1</td>\n",
       "      <td>TRANSFER</td>\n",
       "      <td>181.00</td>\n",
       "      <td>C1305486145</td>\n",
       "      <td>181.0</td>\n",
       "      <td>0.00</td>\n",
       "      <td>C553264065</td>\n",
       "      <td>0.0</td>\n",
       "      <td>0.0</td>\n",
       "      <td>1</td>\n",
       "      <td>0</td>\n",
       "    </tr>\n",
       "    <tr>\n",
       "      <th>3</th>\n",
       "      <td>1</td>\n",
       "      <td>CASH_OUT</td>\n",
       "      <td>181.00</td>\n",
       "      <td>C840083671</td>\n",
       "      <td>181.0</td>\n",
       "      <td>0.00</td>\n",
       "      <td>C38997010</td>\n",
       "      <td>21182.0</td>\n",
       "      <td>0.0</td>\n",
       "      <td>1</td>\n",
       "      <td>0</td>\n",
       "    </tr>\n",
       "    <tr>\n",
       "      <th>4</th>\n",
       "      <td>1</td>\n",
       "      <td>PAYMENT</td>\n",
       "      <td>11668.14</td>\n",
       "      <td>C2048537720</td>\n",
       "      <td>41554.0</td>\n",
       "      <td>29885.86</td>\n",
       "      <td>M1230701703</td>\n",
       "      <td>0.0</td>\n",
       "      <td>0.0</td>\n",
       "      <td>0</td>\n",
       "      <td>0</td>\n",
       "    </tr>\n",
       "  </tbody>\n",
       "</table>\n",
       "</div>"
      ],
      "text/plain": [
       "   step      type    amount     nameOrig  oldbalanceOrg  newbalanceOrig   \n",
       "0     1   PAYMENT   9839.64  C1231006815       170136.0       160296.36  \\\n",
       "1     1   PAYMENT   1864.28  C1666544295        21249.0        19384.72   \n",
       "2     1  TRANSFER    181.00  C1305486145          181.0            0.00   \n",
       "3     1  CASH_OUT    181.00   C840083671          181.0            0.00   \n",
       "4     1   PAYMENT  11668.14  C2048537720        41554.0        29885.86   \n",
       "\n",
       "      nameDest  oldbalanceDest  newbalanceDest  isFraud  isFlaggedFraud  \n",
       "0  M1979787155             0.0             0.0        0               0  \n",
       "1  M2044282225             0.0             0.0        0               0  \n",
       "2   C553264065             0.0             0.0        1               0  \n",
       "3    C38997010         21182.0             0.0        1               0  \n",
       "4  M1230701703             0.0             0.0        0               0  "
      ]
     },
     "execution_count": 7,
     "metadata": {},
     "output_type": "execute_result"
    }
   ],
   "source": [
    "data.head()"
   ]
  },
  {
   "cell_type": "code",
   "execution_count": 8,
   "id": "d24f6e05",
   "metadata": {},
   "outputs": [],
   "source": [
    "data = data.drop(columns=['step','nameOrig','nameDest'],axis = 1)"
   ]
  },
  {
   "cell_type": "code",
   "execution_count": 9,
   "id": "6260d1fb",
   "metadata": {},
   "outputs": [
    {
     "name": "stdout",
     "output_type": "stream",
     "text": [
      "<class 'pandas.core.frame.DataFrame'>\n",
      "RangeIndex: 6362620 entries, 0 to 6362619\n",
      "Data columns (total 8 columns):\n",
      " #   Column          Dtype  \n",
      "---  ------          -----  \n",
      " 0   type            object \n",
      " 1   amount          float64\n",
      " 2   oldbalanceOrg   float64\n",
      " 3   newbalanceOrig  float64\n",
      " 4   oldbalanceDest  float64\n",
      " 5   newbalanceDest  float64\n",
      " 6   isFraud         int64  \n",
      " 7   isFlaggedFraud  int64  \n",
      "dtypes: float64(5), int64(2), object(1)\n",
      "memory usage: 388.3+ MB\n"
     ]
    }
   ],
   "source": [
    "data.info()"
   ]
  },
  {
   "cell_type": "code",
   "execution_count": 10,
   "id": "29bf417e",
   "metadata": {},
   "outputs": [
    {
     "data": {
      "text/plain": [
       "type              0\n",
       "amount            0\n",
       "oldbalanceOrg     0\n",
       "newbalanceOrig    0\n",
       "oldbalanceDest    0\n",
       "newbalanceDest    0\n",
       "isFraud           0\n",
       "isFlaggedFraud    0\n",
       "dtype: int64"
      ]
     },
     "execution_count": 10,
     "metadata": {},
     "output_type": "execute_result"
    }
   ],
   "source": [
    "data.isnull().sum()"
   ]
  },
  {
   "cell_type": "code",
   "execution_count": 11,
   "id": "620f845b",
   "metadata": {},
   "outputs": [
    {
     "data": {
      "text/html": [
       "<div>\n",
       "<style scoped>\n",
       "    .dataframe tbody tr th:only-of-type {\n",
       "        vertical-align: middle;\n",
       "    }\n",
       "\n",
       "    .dataframe tbody tr th {\n",
       "        vertical-align: top;\n",
       "    }\n",
       "\n",
       "    .dataframe thead th {\n",
       "        text-align: right;\n",
       "    }\n",
       "</style>\n",
       "<table border=\"1\" class=\"dataframe\">\n",
       "  <thead>\n",
       "    <tr style=\"text-align: right;\">\n",
       "      <th></th>\n",
       "      <th>type</th>\n",
       "      <th>amount</th>\n",
       "      <th>oldbalanceOrg</th>\n",
       "      <th>newbalanceOrig</th>\n",
       "      <th>oldbalanceDest</th>\n",
       "      <th>newbalanceDest</th>\n",
       "      <th>isFraud</th>\n",
       "      <th>isFlaggedFraud</th>\n",
       "    </tr>\n",
       "  </thead>\n",
       "  <tbody>\n",
       "    <tr>\n",
       "      <th>0</th>\n",
       "      <td>PAYMENT</td>\n",
       "      <td>9839.64</td>\n",
       "      <td>170136.0</td>\n",
       "      <td>160296.36</td>\n",
       "      <td>0.0</td>\n",
       "      <td>0.0</td>\n",
       "      <td>0</td>\n",
       "      <td>0</td>\n",
       "    </tr>\n",
       "    <tr>\n",
       "      <th>1</th>\n",
       "      <td>PAYMENT</td>\n",
       "      <td>1864.28</td>\n",
       "      <td>21249.0</td>\n",
       "      <td>19384.72</td>\n",
       "      <td>0.0</td>\n",
       "      <td>0.0</td>\n",
       "      <td>0</td>\n",
       "      <td>0</td>\n",
       "    </tr>\n",
       "    <tr>\n",
       "      <th>2</th>\n",
       "      <td>TRANSFER</td>\n",
       "      <td>181.00</td>\n",
       "      <td>181.0</td>\n",
       "      <td>0.00</td>\n",
       "      <td>0.0</td>\n",
       "      <td>0.0</td>\n",
       "      <td>1</td>\n",
       "      <td>0</td>\n",
       "    </tr>\n",
       "    <tr>\n",
       "      <th>3</th>\n",
       "      <td>CASH_OUT</td>\n",
       "      <td>181.00</td>\n",
       "      <td>181.0</td>\n",
       "      <td>0.00</td>\n",
       "      <td>21182.0</td>\n",
       "      <td>0.0</td>\n",
       "      <td>1</td>\n",
       "      <td>0</td>\n",
       "    </tr>\n",
       "    <tr>\n",
       "      <th>4</th>\n",
       "      <td>PAYMENT</td>\n",
       "      <td>11668.14</td>\n",
       "      <td>41554.0</td>\n",
       "      <td>29885.86</td>\n",
       "      <td>0.0</td>\n",
       "      <td>0.0</td>\n",
       "      <td>0</td>\n",
       "      <td>0</td>\n",
       "    </tr>\n",
       "  </tbody>\n",
       "</table>\n",
       "</div>"
      ],
      "text/plain": [
       "       type    amount  oldbalanceOrg  newbalanceOrig  oldbalanceDest   \n",
       "0   PAYMENT   9839.64       170136.0       160296.36             0.0  \\\n",
       "1   PAYMENT   1864.28        21249.0        19384.72             0.0   \n",
       "2  TRANSFER    181.00          181.0            0.00             0.0   \n",
       "3  CASH_OUT    181.00          181.0            0.00         21182.0   \n",
       "4   PAYMENT  11668.14        41554.0        29885.86             0.0   \n",
       "\n",
       "   newbalanceDest  isFraud  isFlaggedFraud  \n",
       "0             0.0        0               0  \n",
       "1             0.0        0               0  \n",
       "2             0.0        1               0  \n",
       "3             0.0        1               0  \n",
       "4             0.0        0               0  "
      ]
     },
     "execution_count": 11,
     "metadata": {},
     "output_type": "execute_result"
    }
   ],
   "source": [
    "data.head()"
   ]
  },
  {
   "cell_type": "code",
   "execution_count": 12,
   "id": "d78d8683",
   "metadata": {},
   "outputs": [
    {
     "data": {
      "text/plain": [
       "array(['PAYMENT', 'TRANSFER', 'CASH_OUT', 'DEBIT', 'CASH_IN'],\n",
       "      dtype=object)"
      ]
     },
     "execution_count": 12,
     "metadata": {},
     "output_type": "execute_result"
    }
   ],
   "source": [
    "data.type.unique()"
   ]
  },
  {
   "cell_type": "code",
   "execution_count": 13,
   "id": "84b8ae22",
   "metadata": {},
   "outputs": [
    {
     "data": {
      "text/plain": [
       "type\n",
       "CASH_OUT    2237500\n",
       "PAYMENT     2151495\n",
       "CASH_IN     1399284\n",
       "TRANSFER     532909\n",
       "DEBIT         41432\n",
       "Name: count, dtype: int64"
      ]
     },
     "execution_count": 13,
     "metadata": {},
     "output_type": "execute_result"
    }
   ],
   "source": [
    "data.type.value_counts()"
   ]
  },
  {
   "cell_type": "markdown",
   "id": "74fd60e8",
   "metadata": {},
   "source": [
    "### Encoding \n",
    "- To convert text data into numeric data we have to Encoding\n",
    "- so here I apply One Hot Encoder"
   ]
  },
  {
   "cell_type": "code",
   "execution_count": 14,
   "id": "b20be7aa",
   "metadata": {},
   "outputs": [],
   "source": [
    "from sklearn.preprocessing import OneHotEncoder\n",
    "data = pd.get_dummies(data,columns=['type'],drop_first=True)"
   ]
  },
  {
   "cell_type": "code",
   "execution_count": 15,
   "id": "a64eecc8",
   "metadata": {},
   "outputs": [
    {
     "data": {
      "text/html": [
       "<div>\n",
       "<style scoped>\n",
       "    .dataframe tbody tr th:only-of-type {\n",
       "        vertical-align: middle;\n",
       "    }\n",
       "\n",
       "    .dataframe tbody tr th {\n",
       "        vertical-align: top;\n",
       "    }\n",
       "\n",
       "    .dataframe thead th {\n",
       "        text-align: right;\n",
       "    }\n",
       "</style>\n",
       "<table border=\"1\" class=\"dataframe\">\n",
       "  <thead>\n",
       "    <tr style=\"text-align: right;\">\n",
       "      <th></th>\n",
       "      <th>amount</th>\n",
       "      <th>oldbalanceOrg</th>\n",
       "      <th>newbalanceOrig</th>\n",
       "      <th>oldbalanceDest</th>\n",
       "      <th>newbalanceDest</th>\n",
       "      <th>isFraud</th>\n",
       "      <th>isFlaggedFraud</th>\n",
       "      <th>type_CASH_OUT</th>\n",
       "      <th>type_DEBIT</th>\n",
       "      <th>type_PAYMENT</th>\n",
       "      <th>type_TRANSFER</th>\n",
       "    </tr>\n",
       "  </thead>\n",
       "  <tbody>\n",
       "    <tr>\n",
       "      <th>0</th>\n",
       "      <td>9839.64</td>\n",
       "      <td>170136.0</td>\n",
       "      <td>160296.36</td>\n",
       "      <td>0.0</td>\n",
       "      <td>0.0</td>\n",
       "      <td>0</td>\n",
       "      <td>0</td>\n",
       "      <td>False</td>\n",
       "      <td>False</td>\n",
       "      <td>True</td>\n",
       "      <td>False</td>\n",
       "    </tr>\n",
       "    <tr>\n",
       "      <th>1</th>\n",
       "      <td>1864.28</td>\n",
       "      <td>21249.0</td>\n",
       "      <td>19384.72</td>\n",
       "      <td>0.0</td>\n",
       "      <td>0.0</td>\n",
       "      <td>0</td>\n",
       "      <td>0</td>\n",
       "      <td>False</td>\n",
       "      <td>False</td>\n",
       "      <td>True</td>\n",
       "      <td>False</td>\n",
       "    </tr>\n",
       "    <tr>\n",
       "      <th>2</th>\n",
       "      <td>181.00</td>\n",
       "      <td>181.0</td>\n",
       "      <td>0.00</td>\n",
       "      <td>0.0</td>\n",
       "      <td>0.0</td>\n",
       "      <td>1</td>\n",
       "      <td>0</td>\n",
       "      <td>False</td>\n",
       "      <td>False</td>\n",
       "      <td>False</td>\n",
       "      <td>True</td>\n",
       "    </tr>\n",
       "    <tr>\n",
       "      <th>3</th>\n",
       "      <td>181.00</td>\n",
       "      <td>181.0</td>\n",
       "      <td>0.00</td>\n",
       "      <td>21182.0</td>\n",
       "      <td>0.0</td>\n",
       "      <td>1</td>\n",
       "      <td>0</td>\n",
       "      <td>True</td>\n",
       "      <td>False</td>\n",
       "      <td>False</td>\n",
       "      <td>False</td>\n",
       "    </tr>\n",
       "    <tr>\n",
       "      <th>4</th>\n",
       "      <td>11668.14</td>\n",
       "      <td>41554.0</td>\n",
       "      <td>29885.86</td>\n",
       "      <td>0.0</td>\n",
       "      <td>0.0</td>\n",
       "      <td>0</td>\n",
       "      <td>0</td>\n",
       "      <td>False</td>\n",
       "      <td>False</td>\n",
       "      <td>True</td>\n",
       "      <td>False</td>\n",
       "    </tr>\n",
       "  </tbody>\n",
       "</table>\n",
       "</div>"
      ],
      "text/plain": [
       "     amount  oldbalanceOrg  newbalanceOrig  oldbalanceDest  newbalanceDest   \n",
       "0   9839.64       170136.0       160296.36             0.0             0.0  \\\n",
       "1   1864.28        21249.0        19384.72             0.0             0.0   \n",
       "2    181.00          181.0            0.00             0.0             0.0   \n",
       "3    181.00          181.0            0.00         21182.0             0.0   \n",
       "4  11668.14        41554.0        29885.86             0.0             0.0   \n",
       "\n",
       "   isFraud  isFlaggedFraud  type_CASH_OUT  type_DEBIT  type_PAYMENT   \n",
       "0        0               0          False       False          True  \\\n",
       "1        0               0          False       False          True   \n",
       "2        1               0          False       False         False   \n",
       "3        1               0           True       False         False   \n",
       "4        0               0          False       False          True   \n",
       "\n",
       "   type_TRANSFER  \n",
       "0          False  \n",
       "1          False  \n",
       "2           True  \n",
       "3          False  \n",
       "4          False  "
      ]
     },
     "execution_count": 15,
     "metadata": {},
     "output_type": "execute_result"
    }
   ],
   "source": [
    "data.head()"
   ]
  },
  {
   "cell_type": "markdown",
   "id": "0edd767d",
   "metadata": {},
   "source": [
    "### Scaling\n",
    "- To Bring all the data into same scale we have to do scaling\n",
    "- so here I apply Min-Max-Scaler"
   ]
  },
  {
   "cell_type": "code",
   "execution_count": 16,
   "id": "15957f94",
   "metadata": {},
   "outputs": [],
   "source": [
    "from sklearn.preprocessing import MinMaxScaler\n",
    "scaler = MinMaxScaler()\n",
    "data_scaler = scaler.fit_transform(data)"
   ]
  },
  {
   "cell_type": "code",
   "execution_count": 17,
   "id": "c1f16389",
   "metadata": {},
   "outputs": [],
   "source": [
    "data = pd.DataFrame(data_scaler,columns=data.columns)"
   ]
  },
  {
   "cell_type": "code",
   "execution_count": 18,
   "id": "f74d0cdc",
   "metadata": {},
   "outputs": [
    {
     "data": {
      "text/html": [
       "<div>\n",
       "<style scoped>\n",
       "    .dataframe tbody tr th:only-of-type {\n",
       "        vertical-align: middle;\n",
       "    }\n",
       "\n",
       "    .dataframe tbody tr th {\n",
       "        vertical-align: top;\n",
       "    }\n",
       "\n",
       "    .dataframe thead th {\n",
       "        text-align: right;\n",
       "    }\n",
       "</style>\n",
       "<table border=\"1\" class=\"dataframe\">\n",
       "  <thead>\n",
       "    <tr style=\"text-align: right;\">\n",
       "      <th></th>\n",
       "      <th>amount</th>\n",
       "      <th>oldbalanceOrg</th>\n",
       "      <th>newbalanceOrig</th>\n",
       "      <th>oldbalanceDest</th>\n",
       "      <th>newbalanceDest</th>\n",
       "      <th>isFraud</th>\n",
       "      <th>isFlaggedFraud</th>\n",
       "      <th>type_CASH_OUT</th>\n",
       "      <th>type_DEBIT</th>\n",
       "      <th>type_PAYMENT</th>\n",
       "      <th>type_TRANSFER</th>\n",
       "    </tr>\n",
       "  </thead>\n",
       "  <tbody>\n",
       "    <tr>\n",
       "      <th>0</th>\n",
       "      <td>0.000106</td>\n",
       "      <td>0.002855</td>\n",
       "      <td>0.003233</td>\n",
       "      <td>0.000000</td>\n",
       "      <td>0.0</td>\n",
       "      <td>0.0</td>\n",
       "      <td>0.0</td>\n",
       "      <td>0.0</td>\n",
       "      <td>0.0</td>\n",
       "      <td>1.0</td>\n",
       "      <td>0.0</td>\n",
       "    </tr>\n",
       "    <tr>\n",
       "      <th>1</th>\n",
       "      <td>0.000020</td>\n",
       "      <td>0.000357</td>\n",
       "      <td>0.000391</td>\n",
       "      <td>0.000000</td>\n",
       "      <td>0.0</td>\n",
       "      <td>0.0</td>\n",
       "      <td>0.0</td>\n",
       "      <td>0.0</td>\n",
       "      <td>0.0</td>\n",
       "      <td>1.0</td>\n",
       "      <td>0.0</td>\n",
       "    </tr>\n",
       "    <tr>\n",
       "      <th>2</th>\n",
       "      <td>0.000002</td>\n",
       "      <td>0.000003</td>\n",
       "      <td>0.000000</td>\n",
       "      <td>0.000000</td>\n",
       "      <td>0.0</td>\n",
       "      <td>1.0</td>\n",
       "      <td>0.0</td>\n",
       "      <td>0.0</td>\n",
       "      <td>0.0</td>\n",
       "      <td>0.0</td>\n",
       "      <td>1.0</td>\n",
       "    </tr>\n",
       "    <tr>\n",
       "      <th>3</th>\n",
       "      <td>0.000002</td>\n",
       "      <td>0.000003</td>\n",
       "      <td>0.000000</td>\n",
       "      <td>0.000059</td>\n",
       "      <td>0.0</td>\n",
       "      <td>1.0</td>\n",
       "      <td>0.0</td>\n",
       "      <td>1.0</td>\n",
       "      <td>0.0</td>\n",
       "      <td>0.0</td>\n",
       "      <td>0.0</td>\n",
       "    </tr>\n",
       "    <tr>\n",
       "      <th>4</th>\n",
       "      <td>0.000126</td>\n",
       "      <td>0.000697</td>\n",
       "      <td>0.000603</td>\n",
       "      <td>0.000000</td>\n",
       "      <td>0.0</td>\n",
       "      <td>0.0</td>\n",
       "      <td>0.0</td>\n",
       "      <td>0.0</td>\n",
       "      <td>0.0</td>\n",
       "      <td>1.0</td>\n",
       "      <td>0.0</td>\n",
       "    </tr>\n",
       "  </tbody>\n",
       "</table>\n",
       "</div>"
      ],
      "text/plain": [
       "     amount  oldbalanceOrg  newbalanceOrig  oldbalanceDest  newbalanceDest   \n",
       "0  0.000106       0.002855        0.003233        0.000000             0.0  \\\n",
       "1  0.000020       0.000357        0.000391        0.000000             0.0   \n",
       "2  0.000002       0.000003        0.000000        0.000000             0.0   \n",
       "3  0.000002       0.000003        0.000000        0.000059             0.0   \n",
       "4  0.000126       0.000697        0.000603        0.000000             0.0   \n",
       "\n",
       "   isFraud  isFlaggedFraud  type_CASH_OUT  type_DEBIT  type_PAYMENT   \n",
       "0      0.0             0.0            0.0         0.0           1.0  \\\n",
       "1      0.0             0.0            0.0         0.0           1.0   \n",
       "2      1.0             0.0            0.0         0.0           0.0   \n",
       "3      1.0             0.0            1.0         0.0           0.0   \n",
       "4      0.0             0.0            0.0         0.0           1.0   \n",
       "\n",
       "   type_TRANSFER  \n",
       "0            0.0  \n",
       "1            0.0  \n",
       "2            1.0  \n",
       "3            0.0  \n",
       "4            0.0  "
      ]
     },
     "execution_count": 18,
     "metadata": {},
     "output_type": "execute_result"
    }
   ],
   "source": [
    "data.head()"
   ]
  },
  {
   "cell_type": "code",
   "execution_count": 19,
   "id": "dda7838c",
   "metadata": {},
   "outputs": [
    {
     "data": {
      "image/png": "[encoded data removed]",
      "text/plain": [
       "<Figure size 1000x900 with 2 Axes>"
      ]
     },
     "metadata": {},
     "output_type": "display_data"
    }
   ],
   "source": [
    "plt.figure(figsize=(10,9))\n",
    "sns.heatmap(data.corr(),annot=True)\n",
    "plt.show()"
   ]
  },
  {
   "cell_type": "markdown",
   "id": "d4bb1aba",
   "metadata": {},
   "source": [
    "### Seperate X and Y"
   ]
  },
  {
   "cell_type": "code",
   "execution_count": 20,
   "id": "f397a606",
   "metadata": {},
   "outputs": [],
   "source": [
    "X = data.drop(columns = ['isFraud'],axis =1)"
   ]
  },
  {
   "cell_type": "code",
   "execution_count": 21,
   "id": "62e4a36a",
   "metadata": {},
   "outputs": [],
   "source": [
    "y = data['isFraud']"
   ]
  },
  {
   "cell_type": "markdown",
   "id": "19ac9b88",
   "metadata": {},
   "source": [
    "### Apply under Sampling Technique\n",
    "- Here we install imblearn library for under sampling"
   ]
  },
  {
   "cell_type": "code",
   "execution_count": 22,
   "id": "67a571eb",
   "metadata": {
    "scrolled": false
   },
   "outputs": [],
   "source": [
    "#!pip install imblearn"
   ]
  },
  {
   "cell_type": "code",
   "execution_count": 23,
   "id": "5858f33a",
   "metadata": {},
   "outputs": [
    {
     "data": {
      "text/plain": [
       "isFraud\n",
       "0.0    6354407\n",
       "1.0       8213\n",
       "Name: count, dtype: int64"
      ]
     },
     "execution_count": 23,
     "metadata": {},
     "output_type": "execute_result"
    }
   ],
   "source": [
    "data.isFraud.value_counts()"
   ]
  },
  {
   "cell_type": "code",
   "execution_count": 24,
   "id": "6cc22945",
   "metadata": {},
   "outputs": [],
   "source": [
    "from imblearn.under_sampling import RandomUnderSampler\n",
    "rs = RandomUnderSampler(random_state = 42)\n",
    "x_new,y_new = rs.fit_resample(X,y)"
   ]
  },
  {
   "cell_type": "code",
   "execution_count": 25,
   "id": "fb40e94c",
   "metadata": {},
   "outputs": [
    {
     "data": {
      "text/plain": [
       "isFraud\n",
       "0.0    8213\n",
       "1.0    8213\n",
       "Name: count, dtype: int64"
      ]
     },
     "execution_count": 25,
     "metadata": {},
     "output_type": "execute_result"
    }
   ],
   "source": [
    "y_new.value_counts()"
   ]
  },
  {
   "cell_type": "markdown",
   "id": "d3b499f4",
   "metadata": {},
   "source": [
    "### Train-Test-Split"
   ]
  },
  {
   "cell_type": "code",
   "execution_count": 26,
   "id": "697ef5c5",
   "metadata": {},
   "outputs": [],
   "source": [
    "from sklearn.model_selection import train_test_split\n",
    "X_train,X_test,y_train,y_test = train_test_split(x_new,y_new,random_state = 42,test_size = 0.3)"
   ]
  },
  {
   "cell_type": "markdown",
   "id": "6d9c52fd",
   "metadata": {},
   "source": [
    "## Logistic Regression"
   ]
  },
  {
   "cell_type": "code",
   "execution_count": 27,
   "id": "c0c6a275",
   "metadata": {
    "scrolled": false
   },
   "outputs": [
    {
     "name": "stdout",
     "output_type": "stream",
     "text": [
      "Train Accuracy =  0.787528265785354\n",
      "Test Accuracy =  0.7717126623376623\n",
      "--------------------------------------------------\n",
      "cross validation score =  0.7844268429044023\n"
     ]
    }
   ],
   "source": [
    "# modeling\n",
    "from sklearn.linear_model import LogisticRegression\n",
    "log_model = LogisticRegression()\n",
    "log_model.fit(X_train,y_train)\n",
    "\n",
    "#prediction\n",
    "ypred_train = log_model.predict(X_train)\n",
    "ypred_test = log_model.predict(X_test)\n",
    "\n",
    "#Evaluation\n",
    "\n",
    "from sklearn.metrics import accuracy_score\n",
    "print(\"Train Accuracy = \" ,accuracy_score(y_train,ypred_train))\n",
    "print(\"Test Accuracy = \" ,accuracy_score(y_test,ypred_test))\n",
    "\n",
    "print(\"-\"*50)\n",
    "\n",
    "#cross validation score\n",
    "from sklearn.model_selection import cross_val_score\n",
    "scores = cross_val_score(log_model,x_new,y_new,cv = 5)\n",
    "print(\"cross validation score = \",scores.mean())"
   ]
  },
  {
   "cell_type": "code",
   "execution_count": 28,
   "id": "d3077ad7",
   "metadata": {},
   "outputs": [
    {
     "name": "stdout",
     "output_type": "stream",
     "text": [
      "[[1361 1118]\n",
      " [   7 2442]]\n"
     ]
    }
   ],
   "source": [
    "from sklearn.metrics import confusion_matrix\n",
    "print(confusion_matrix(y_test,ypred_test))"
   ]
  },
  {
   "cell_type": "code",
   "execution_count": 29,
   "id": "8db0d45a",
   "metadata": {},
   "outputs": [
    {
     "name": "stdout",
     "output_type": "stream",
     "text": [
      "              precision    recall  f1-score   support\n",
      "\n",
      "         0.0       0.99      0.55      0.71      2479\n",
      "         1.0       0.69      1.00      0.81      2449\n",
      "\n",
      "    accuracy                           0.77      4928\n",
      "   macro avg       0.84      0.77      0.76      4928\n",
      "weighted avg       0.84      0.77      0.76      4928\n",
      "\n"
     ]
    }
   ],
   "source": [
    "from sklearn.metrics import classification_report\n",
    "print(classification_report(y_test,ypred_test))"
   ]
  },
  {
   "cell_type": "code",
   "execution_count": null,
   "id": "ba8cf56d",
   "metadata": {},
   "outputs": [],
   "source": [
    "!pip install scikit-learn"
   ]
  },
  {
   "cell_type": "markdown",
   "id": "17d077f9",
   "metadata": {},
   "source": [
    "## KNN"
   ]
  },
  {
   "cell_type": "code",
   "execution_count": 30,
   "id": "bac5315b",
   "metadata": {},
   "outputs": [
    {
     "name": "stdout",
     "output_type": "stream",
     "text": [
      "train accuracy:  0.9810401809010263\n",
      "test accuracy:  0.9750405844155844\n",
      "--------------------------------------------------\n",
      "cross validation score =  0.9758921525849715\n"
     ]
    }
   ],
   "source": [
    "#modeling\n",
    "from sklearn.neighbors import KNeighborsClassifier\n",
    "knn_model = KNeighborsClassifier()\n",
    "knn_model.fit(X_train,y_train)\n",
    "\n",
    "#prediction\n",
    "\n",
    "y_pred_train = knn_model.predict(X_train)\n",
    "y_pred_test = knn_model.predict(X_test)\n",
    "\n",
    "#Evaluation\n",
    "\n",
    "from sklearn.metrics import accuracy_score\n",
    "print(\"train accuracy: \",accuracy_score(y_train,y_pred_train))\n",
    "print(\"test accuracy: \",accuracy_score(y_test,y_pred_test))\n",
    "\n",
    "print(\"-\"*50)\n",
    "\n",
    "scores = cross_val_score(knn_model,x_new,y_new,cv = 5)\n",
    "print(\"cross validation score = \",scores.mean())"
   ]
  },
  {
   "cell_type": "code",
   "execution_count": 31,
   "id": "b8bfc3ec",
   "metadata": {},
   "outputs": [
    {
     "name": "stdout",
     "output_type": "stream",
     "text": [
      "[[2393   86]\n",
      " [  37 2412]]\n"
     ]
    }
   ],
   "source": [
    "from sklearn.metrics import confusion_matrix\n",
    "print(confusion_matrix(y_test,y_pred_test))"
   ]
  },
  {
   "cell_type": "code",
   "execution_count": 32,
   "id": "b5a62dd4",
   "metadata": {},
   "outputs": [
    {
     "name": "stdout",
     "output_type": "stream",
     "text": [
      "              precision    recall  f1-score   support\n",
      "\n",
      "         0.0       0.98      0.97      0.97      2479\n",
      "         1.0       0.97      0.98      0.98      2449\n",
      "\n",
      "    accuracy                           0.98      4928\n",
      "   macro avg       0.98      0.98      0.98      4928\n",
      "weighted avg       0.98      0.98      0.98      4928\n",
      "\n"
     ]
    }
   ],
   "source": [
    "from sklearn.metrics import classification_report\n",
    "print(classification_report(y_test,y_pred_test))"
   ]
  },
  {
   "cell_type": "markdown",
   "id": "3e948b59",
   "metadata": {},
   "source": [
    "## SVM"
   ]
  },
  {
   "cell_type": "code",
   "execution_count": 33,
   "id": "04504fd3",
   "metadata": {},
   "outputs": [
    {
     "name": "stdout",
     "output_type": "stream",
     "text": [
      "Train accuracy =  0.786919464254653\n",
      "Test accuracy =  0.7727272727272727\n",
      "--------------------------------------------------\n",
      "cross validation score =  0.783513749118765\n"
     ]
    }
   ],
   "source": [
    "#Modeling\n",
    "from sklearn import svm\n",
    "svm_model = svm.SVC()\n",
    "svm_model.fit(X_train,y_train)\n",
    "\n",
    "#prediction\n",
    "y_pred_train = svm_model.predict(X_train)\n",
    "y_pred_test = svm_model.predict(X_test)\n",
    "\n",
    "#Evaluation\n",
    "from sklearn.metrics import accuracy_score\n",
    "print(\"Train accuracy = \",accuracy_score(y_train,y_pred_train))\n",
    "print(\"Test accuracy = \",accuracy_score(y_test,y_pred_test))\n",
    "\n",
    "print(\"-\"*50)\n",
    "\n",
    "scores = cross_val_score(svm_model,x_new,y_new,cv = 5)\n",
    "print(\"cross validation score = \",scores.mean())"
   ]
  },
  {
   "cell_type": "code",
   "execution_count": 34,
   "id": "7455b439",
   "metadata": {},
   "outputs": [
    {
     "name": "stdout",
     "output_type": "stream",
     "text": [
      "[[1361 1118]\n",
      " [   2 2447]]\n"
     ]
    }
   ],
   "source": [
    "print(confusion_matrix(y_test,y_pred_test))"
   ]
  },
  {
   "cell_type": "code",
   "execution_count": 35,
   "id": "d82e2f23",
   "metadata": {},
   "outputs": [
    {
     "name": "stdout",
     "output_type": "stream",
     "text": [
      "              precision    recall  f1-score   support\n",
      "\n",
      "         0.0       1.00      0.55      0.71      2479\n",
      "         1.0       0.69      1.00      0.81      2449\n",
      "\n",
      "    accuracy                           0.77      4928\n",
      "   macro avg       0.84      0.77      0.76      4928\n",
      "weighted avg       0.84      0.77      0.76      4928\n",
      "\n"
     ]
    }
   ],
   "source": [
    "print(classification_report(y_test,y_pred_test))"
   ]
  },
  {
   "cell_type": "markdown",
   "id": "fa68c46f",
   "metadata": {},
   "source": [
    "## NAIVE BAYES"
   ]
  },
  {
   "cell_type": "code",
   "execution_count": 36,
   "id": "06bcec66",
   "metadata": {},
   "outputs": [
    {
     "name": "stdout",
     "output_type": "stream",
     "text": [
      "Train_accuracy =  0.6847277787441294\n",
      "Test_accuracy =  0.6730925324675324\n",
      "--------------------------------------------------\n",
      "cross validation score 0.6783147915004942\n"
     ]
    }
   ],
   "source": [
    "#modeling\n",
    "from sklearn.naive_bayes import GaussianNB\n",
    "nb_model = GaussianNB()\n",
    "nb_model.fit(X_train,y_train)\n",
    "\n",
    "#predicting\n",
    "y_pred_train = nb_model.predict(X_train)\n",
    "y_pred_test = nb_model.predict(X_test)\n",
    "\n",
    "#Evaluation\n",
    "print(\"Train_accuracy = \",accuracy_score(y_train,y_pred_train))\n",
    "print(\"Test_accuracy = \",accuracy_score(y_test,y_pred_test))\n",
    "\n",
    "print(\"-\"*50)\n",
    "scores = cross_val_score(nb_model,x_new,y_new,cv=5)\n",
    "print(\"cross validation score\",scores.mean())"
   ]
  },
  {
   "cell_type": "code",
   "execution_count": 37,
   "id": "bf3bdecf",
   "metadata": {},
   "outputs": [
    {
     "name": "stdout",
     "output_type": "stream",
     "text": [
      "[[ 868 1611]\n",
      " [   0 2449]]\n"
     ]
    }
   ],
   "source": [
    "print(confusion_matrix(y_test,y_pred_test))"
   ]
  },
  {
   "cell_type": "code",
   "execution_count": 38,
   "id": "f537d034",
   "metadata": {},
   "outputs": [
    {
     "name": "stdout",
     "output_type": "stream",
     "text": [
      "              precision    recall  f1-score   support\n",
      "\n",
      "         0.0       1.00      0.35      0.52      2479\n",
      "         1.0       0.60      1.00      0.75      2449\n",
      "\n",
      "    accuracy                           0.67      4928\n",
      "   macro avg       0.80      0.68      0.64      4928\n",
      "weighted avg       0.80      0.67      0.63      4928\n",
      "\n"
     ]
    }
   ],
   "source": [
    "print(classification_report(y_test,y_pred_test))"
   ]
  },
  {
   "cell_type": "code",
   "execution_count": 39,
   "id": "3a3f8ff5",
   "metadata": {},
   "outputs": [
    {
     "name": "stdout",
     "output_type": "stream",
     "text": [
      "Train_accuracy =  0.7644807792659593\n",
      "Test_accuracy =  0.7516233766233766\n",
      "--------------------------------------------------\n",
      "cross validation score =  0.7807133255701277\n"
     ]
    }
   ],
   "source": [
    "from sklearn.naive_bayes import MultinomialNB\n",
    "nbm_model = MultinomialNB()\n",
    "nbm_model.fit(X_train,y_train)\n",
    "\n",
    "#predicting\n",
    "y_pred_train = nbm_model.predict(X_train)\n",
    "y_pred_test = nbm_model.predict(X_test)\n",
    "\n",
    "#Evaluation\n",
    "print(\"Train_accuracy = \",accuracy_score(y_train,y_pred_train))\n",
    "print(\"Test_accuracy = \",accuracy_score(y_test,y_pred_test))\n",
    "\n",
    "print(\"-\"*50)\n",
    "scores = cross_val_score(nbm_model,x_new,y_new,cv=5)\n",
    "print(\"cross validation score = \",scores.mean())"
   ]
  },
  {
   "cell_type": "code",
   "execution_count": 40,
   "id": "1ae20cd2",
   "metadata": {},
   "outputs": [
    {
     "name": "stdout",
     "output_type": "stream",
     "text": [
      "Train_accuracy =  0.8974604279005044\n",
      "Test_accuracy =  0.8954951298701299\n",
      "--------------------------------------------------\n",
      "cross validation score =  0.9005843340735243\n"
     ]
    }
   ],
   "source": [
    "from sklearn.naive_bayes import BernoulliNB\n",
    "nbB_model = BernoulliNB()\n",
    "nbB_model.fit(X_train,y_train)\n",
    "\n",
    "#predicting\n",
    "y_pred_train = nbB_model.predict(X_train)\n",
    "y_pred_test = nbB_model.predict(X_test)\n",
    "\n",
    "#Evaluation\n",
    "print(\"Train_accuracy = \",accuracy_score(y_train,y_pred_train))\n",
    "print(\"Test_accuracy = \",accuracy_score(y_test,y_pred_test))\n",
    "\n",
    "print(\"-\"*50)\n",
    "scores = cross_val_score(nbB_model,x_new,y_new,cv=5)\n",
    "print(\"cross validation score = \",scores.mean())"
   ]
  },
  {
   "cell_type": "markdown",
   "id": "e6b03552",
   "metadata": {},
   "source": [
    "## Decision Tree"
   ]
  },
  {
   "cell_type": "code",
   "execution_count": 44,
   "id": "066028ef",
   "metadata": {},
   "outputs": [
    {
     "name": "stdout",
     "output_type": "stream",
     "text": [
      "Train_accuracy =  1.0\n",
      "Test_accuracy =  0.9902597402597403\n",
      "--------------------------------------------------\n",
      "cross_val_score =  0.99129451915835\n"
     ]
    }
   ],
   "source": [
    "#modeling\n",
    "\n",
    "from sklearn.tree import DecisionTreeClassifier\n",
    "Dt_model = DecisionTreeClassifier()\n",
    "Dt_model.fit(X_train,y_train)\n",
    "\n",
    "#prediction\n",
    "y_pred_train = Dt_model.predict(X_train)\n",
    "y_pred_test = Dt_model.predict(X_test)\n",
    "\n",
    "#evaluation\n",
    "\n",
    "print(\"Train_accuracy = \",accuracy_score(y_train,y_pred_train))\n",
    "print(\"Test_accuracy = \",accuracy_score(y_test,y_pred_test))\n",
    "print(\"-\"*50)\n",
    "scores = cross_val_score(Dt_model,x_new,y_new,cv = 5)\n",
    "print(\"cross_val_score = \",scores.mean())"
   ]
  },
  {
   "cell_type": "markdown",
   "id": "869a20ab",
   "metadata": {},
   "source": [
    "## Random Forest"
   ]
  },
  {
   "cell_type": "code",
   "execution_count": 45,
   "id": "0af24dd6",
   "metadata": {},
   "outputs": [
    {
     "name": "stdout",
     "output_type": "stream",
     "text": [
      "Train_accuarcy =  1.0\n",
      "Test_accuracy =  0.992086038961039\n",
      "--------------------------------------------------\n",
      "cross validation =  0.9920861252618229\n"
     ]
    }
   ],
   "source": [
    "# modeling\n",
    "\n",
    "from sklearn.ensemble import RandomForestClassifier\n",
    "Rf_model = RandomForestClassifier()\n",
    "Rf_model.fit(X_train,y_train)\n",
    "\n",
    "#Prection\n",
    "\n",
    "y_pred_train = Rf_model.predict(X_train)\n",
    "y_pred_test = Rf_model.predict(X_test)\n",
    "\n",
    "#Evaulation\n",
    "\n",
    "print(\"Train_accuarcy = \",accuracy_score(y_train,y_pred_train))\n",
    "print(\"Test_accuracy = \",accuracy_score(y_test,y_pred_test))\n",
    "\n",
    "print(\"-\"*50)\n",
    "scores = cross_val_score(Rf_model,x_new,y_new,cv=5)\n",
    "print(\"cross validation = \",scores.mean())\n"
   ]
  },
  {
   "cell_type": "markdown",
   "id": "dfdef62b",
   "metadata": {},
   "source": [
    "## Ada Boosting"
   ]
  },
  {
   "cell_type": "code",
   "execution_count": 46,
   "id": "b3a1b7d7",
   "metadata": {},
   "outputs": [
    {
     "name": "stdout",
     "output_type": "stream",
     "text": [
      "Train accuracy =  0.9784310314837363\n",
      "Test accuracy =  0.9784902597402597\n",
      "--------------------------------------------------\n",
      "cross validation =  0.9745527124436404\n"
     ]
    }
   ],
   "source": [
    "#modeling\n",
    "from sklearn.ensemble import AdaBoostClassifier\n",
    "ada_model = AdaBoostClassifier()\n",
    "ada_model.fit(X_train,y_train)\n",
    "\n",
    "#prediction \n",
    "\n",
    "y_pred_train = ada_model.predict(X_train)\n",
    "y_pred_test = ada_model.predict(X_test)\n",
    "\n",
    "#Evaluation\n",
    "print(\"Train accuracy = \",accuracy_score(y_train,y_pred_train))\n",
    "print(\"Test accuracy = \",accuracy_score(y_test,y_pred_test))\n",
    "\n",
    "print(\"-\"*50)\n",
    "\n",
    "scores = cross_val_score(ada_model,x_new,y_new,cv=5)\n",
    "print(\"cross validation = \",scores.mean())"
   ]
  },
  {
   "cell_type": "markdown",
   "id": "3c56b554",
   "metadata": {},
   "source": [
    "## Gradient BOOST"
   ]
  },
  {
   "cell_type": "code",
   "execution_count": 47,
   "id": "9c809596",
   "metadata": {},
   "outputs": [
    {
     "name": "stdout",
     "output_type": "stream",
     "text": [
      "Train accuracy =  0.9899982605670551\n",
      "Test accuracy =  0.9888392857142857\n",
      "--------------------------------------------------\n",
      "Cross validation =  0.9875200634396559\n"
     ]
    }
   ],
   "source": [
    "#modeling\n",
    "from sklearn.ensemble import GradientBoostingClassifier\n",
    "Gb_model = GradientBoostingClassifier()\n",
    "Gb_model.fit(X_train,y_train)\n",
    "\n",
    "#prediction\n",
    "y_pred_train = Gb_model.predict(X_train)\n",
    "y_pred_test = Gb_model.predict(X_test)\n",
    "\n",
    "#evaluation\n",
    "print(\"Train accuracy = \",accuracy_score(y_train,y_pred_train))\n",
    "print(\"Test accuracy = \",accuracy_score(y_test,y_pred_test))\n",
    "\n",
    "print(\"-\"*50)\n",
    "\n",
    "scores = cross_val_score(Gb_model,x_new,y_new,cv = 5)\n",
    "print(\"Cross validation = \",scores.mean())"
   ]
  },
  {
   "cell_type": "code",
   "execution_count": null,
   "id": "30a0f4cc",
   "metadata": {},
   "outputs": [],
   "source": [
    "!pip install xgboost"
   ]
  },
  {
   "cell_type": "markdown",
   "id": "1a922943",
   "metadata": {},
   "source": [
    "## XG Boost"
   ]
  },
  {
   "cell_type": "code",
   "execution_count": 42,
   "id": "a406a5b8",
   "metadata": {},
   "outputs": [
    {
     "name": "stdout",
     "output_type": "stream",
     "text": [
      "Train_accuracy =  0.999739085058271\n",
      "Test accuracy =  0.9937094155844156\n",
      "--------------------------------------------------\n",
      "cross validation =  0.9942167638920154\n"
     ]
    }
   ],
   "source": [
    "#modeling\n",
    "from xgboost import XGBClassifier\n",
    "xgb_model = XGBClassifier()\n",
    "xgb_model.fit(X_train,y_train)\n",
    "#prediction\n",
    "y_pred_train = xgb_model.predict(X_train)\n",
    "y_pred_test = xgb_model.predict(X_test)\n",
    "#evaluation\n",
    "print(\"Train_accuracy = \",accuracy_score(y_pred_train,y_train))\n",
    "print(\"Test accuracy = \",accuracy_score(y_pred_test,y_test))\n",
    "\n",
    "print(\"-\"*50)\n",
    "\n",
    "scores = cross_val_score(xgb_model,x_new,y_new,cv = 5)\n",
    "print(\"cross validation = \",scores.mean())\n"
   ]
  },
  {
   "cell_type": "markdown",
   "id": "7dadaf97",
   "metadata": {},
   "source": [
    "## Actionable plan"
   ]
  },
  {
   "cell_type": "markdown",
   "id": "18fdfb2b",
   "metadata": {},
   "source": [
    "- type_transfer is highly coorelated with is_fraud so from here we can conclude that we should put limit on direct transfer of money. for example: we should not transfer more than 20k per day.\n",
    "\n",
    "\n",
    "- Identify individuals with low bank balance and flagged as fraud and use the model to identify individuals who have both low_bank_balance and have been flagged as a fraud. These individuals are highly correlated with the risk of commiting financial crimes in the future.\n",
    "\n",
    "-  Contineously monitor the models prediction and refine it as necessary to ensure that it remains accurate and reliable. This may involve updating the model with new data or adjusting its paarmeters to improve its performance."
   ]
  },
  {
   "cell_type": "markdown",
   "id": "22475306",
   "metadata": {},
   "source": [
    "### 1. Data cleaning including missing values, outliers and multi-collinearity\n",
    "- Yes, I do all these thing-treating missing value,treating outliers and multi-collinearity."
   ]
  },
  {
   "cell_type": "markdown",
   "id": "521a6a33",
   "metadata": {},
   "source": [
    "### 2. Describe your fraud detection model in elaboration. \n",
    "- My fraud detection model consists of several components, including data preprocessing, feature engineering and modeling.\n",
    "\n",
    "Data Preprocessing: In this step, the raw data is cleaned, transformed and preprocessed to prepare it for analysis. This can involve removing duplicates ,handling missing value and transforming the data into a suitable format for modeling .\n",
    "\n",
    "Modeling: In this step, the preprocessed and engineered data is used to train a machine learning algorithm to make prediction about whether a given transaction or activty is fraudulent. There are several types of machine learning algorithm that can be use such as \n",
    "\n",
    "1. Logistic Regression\n",
    "2. KNN\n",
    "3. SVM(support vector machine)\n",
    "4. Naive Bayes\n",
    "5. Decision Tree\n",
    "6. Random Forest\n",
    "7. Ada Boosting\n",
    "8. Gradient Boosting\n",
    "9. XG Boost\n",
    "\n",
    "XG Boost algorithm gives Maximum Accuracy of 99% so thats why we select XG Boost Algorithm for final model."
   ]
  },
  {
   "cell_type": "markdown",
   "id": "3af7c8bf",
   "metadata": {},
   "source": [
    "### 3. How did you select variables to be included in the model?\n",
    "Basically, I selected only those variable which contribute more towards target variable or more correlated with target variable.\n",
    "Also I drop some of variable like \"step\",\"nameOrig\",\"nameDest\" which not contribute towards target variable.\n"
   ]
  },
  {
   "cell_type": "markdown",
   "id": "c3bac263",
   "metadata": {},
   "source": [
    "### 4. Demonstrate the performance of the model by using best set of tools. \n",
    "To demonstrate the performance of a fraud detection model we need to evaluate its accuracy,precision,recall,F1-score. These matrics help us to understand how well the model is performing and how well its flase positive and false negative it is producing.\n",
    "\n",
    "Tools such as Python and its libraries such as pandas,numpy and matplotlibs, sklearns are commonly used for data Preprocessing and feature engineering and modeling."
   ]
  },
  {
   "cell_type": "markdown",
   "id": "32e0f396",
   "metadata": {},
   "source": [
    "### 5. What are the key factors that predict fraudulent customer? \n",
    "\n",
    "The key factorss that can help predict fraudulent customers and identified through exploratory data analysis (EDA) and feature engineering.\n",
    "\n",
    "Here are some of the key factors that can be identified through Data Analysis: \n",
    "\n",
    "- Payment method: certain payment method may be more prone to fraudulent activity,such as type_CASH_OUT,type_DEBIT,type_PAYMENT,type_TRANSFER.\n",
    "\n",
    "- User behaviou : user behaviour can be analyzed to identify patterns that may indicates fraudulent activities such as multiple failed login attempts or unusual navigation patterns on website.\n",
    "\n",
    "- Account information : Account information , such as the account balance, oldbalanceOrig,newbalanceOrig,oldbalanceDest, newbalanceDest can also be analyzed to identify potential fraud."
   ]
  },
  {
   "cell_type": "markdown",
   "id": "73a5a766",
   "metadata": {},
   "source": [
    "### 6. Do these factors make sense? If yes, How? If not, How not\n",
    "\n",
    "YES, these factors make sense once you know which customer chance is high to doing fraud in future so you can easily stop them save company from losses."
   ]
  },
  {
   "cell_type": "markdown",
   "id": "f3890a9a",
   "metadata": {},
   "source": [
    "### 7. What kind of prevention should be adopted while company update its infrastructure?\n",
    "\n",
    "- Continuously monitor the model's predictions and refine it as necessary to ensure that it remains accurate and reliable. This may involve updating the model with new data or adjusting its parameters to improve its performance.\n",
    "\n",
    "- Identify individuals with low bank balance and flagged as fraud and Use the model to identify individuals who have both low bank balance and have been flagged as fraud.\n",
    "\n",
    "- Continuously monitor the model's predictions and refine it as necessary to ensure that it remains accurate and reliable. This may involve updating the model with new data or adjusting its parameters to improve its performance.\n"
   ]
  },
  {
   "cell_type": "markdown",
   "id": "d347c3de",
   "metadata": {},
   "source": [
    "### 8.Assuming these actions have been implemented, how would you determine if they work ? \n",
    "\n",
    "1. To determine if the prevention measures implemented during the infrastructure update are effective\n",
    "\n",
    "2. Fraud detection rate: The fraud detection rate is the percentage of fraud attempts that are successfully detected and prevented by the system.\n",
    "\n",
    "3. False positive rate: The false positive rate is the percentage of legitimate transactions that are incorrectly flagged as fraudulent.\n",
    "\n",
    "4. Transaction rejection rate: The transaction rejection rate is the percentage of transactions that are rejected due to suspicion of fraud.\n",
    "\n",
    "5. User satisfaction: User satisfaction is an important factor in determining the effectiveness of fraud prevention measures.\n",
    "\n",
    "6. Finally, the financial impact of fraud prevention measures should also be considered. By measuring the cost of fraud prevention measures against the potential losses from fraud, companies can determine if the prevention measures are cost-effective."
   ]
  }
 ],
 "metadata": {
  "kernelspec": {
   "display_name": "Python 3 (ipykernel)",
   "language": "python",
   "name": "python3"
  },
  "language_info": {
   "codemirror_mode": {
    "name": "ipython",
    "version": 3
   },
   "file_extension": ".py",
   "mimetype": "text/x-python",
   "name": "python",
   "nbconvert_exporter": "python",
   "pygments_lexer": "ipython3",
   "version": "3.10.6"
  }
 },
 "nbformat": 4,
 "nbformat_minor": 5
}
